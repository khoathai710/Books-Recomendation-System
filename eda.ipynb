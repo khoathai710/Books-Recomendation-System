{
 "cells": [
  {
   "cell_type": "code",
   "execution_count": 404,
   "metadata": {},
   "outputs": [],
   "source": [
    "import pandas as pd\n",
    "import numpy as np"
   ]
  },
  {
   "cell_type": "code",
   "execution_count": 405,
   "metadata": {},
   "outputs": [
    {
     "name": "stderr",
     "output_type": "stream",
     "text": [
      "C:\\Users\\thaia\\AppData\\Local\\Temp\\ipykernel_14960\\2035899576.py:1: DtypeWarning: Columns (3) have mixed types. Specify dtype option on import or set low_memory=False.\n",
      "  books = pd.read_csv('data/books.csv')\n"
     ]
    }
   ],
   "source": [
    "books = pd.read_csv('data/books.csv')\n",
    "ratings = pd.read_csv('data/ratings.csv')\n",
    "users = pd.read_csv('data/users.csv')"
   ]
  },
  {
   "cell_type": "markdown",
   "metadata": {},
   "source": [
    "## Rename"
   ]
  },
  {
   "cell_type": "code",
   "execution_count": 406,
   "metadata": {},
   "outputs": [],
   "source": [
    "books.rename(\n",
    "    columns={'Year-Of-Publication':'year',\n",
    "            'Book-Title':'title',\n",
    "            'Book-Author':'author',\n",
    "            'Publisher':'publisher',\n",
    "            'ISBN':'isbn'\n",
    "    }, inplace=True\n",
    ")"
   ]
  },
  {
   "cell_type": "code",
   "execution_count": 407,
   "metadata": {},
   "outputs": [],
   "source": [
    "ratings.rename(\n",
    "    columns={'User-ID':'user_id',\n",
    "            'ISBN':'isbn',\n",
    "            'Book-Rating':'rating'\n",
    "    }, inplace=True\n",
    ")\n",
    "\n",
    "users.rename(\n",
    "    columns={'User-ID':'user_id',\n",
    "            'Location':'location',\n",
    "            'Age':'age'\n",
    "    }, inplace=True\n",
    ")"
   ]
  },
  {
   "cell_type": "markdown",
   "metadata": {},
   "source": [
    "## Missing data"
   ]
  },
  {
   "cell_type": "markdown",
   "metadata": {},
   "source": [
    "### Book"
   ]
  },
  {
   "cell_type": "code",
   "execution_count": 408,
   "metadata": {},
   "outputs": [],
   "source": [
    "books.drop_duplicates(subset=['title','author'], inplace=True)"
   ]
  },
  {
   "cell_type": "code",
   "execution_count": 409,
   "metadata": {},
   "outputs": [
    {
     "name": "stdout",
     "output_type": "stream",
     "text": [
      "<class 'pandas.core.frame.DataFrame'>\n",
      "Index: 251185 entries, 0 to 271359\n",
      "Data columns (total 8 columns):\n",
      " #   Column       Non-Null Count   Dtype \n",
      "---  ------       --------------   ----- \n",
      " 0   isbn         251185 non-null  object\n",
      " 1   title        251185 non-null  object\n",
      " 2   author       251183 non-null  object\n",
      " 3   year         251185 non-null  object\n",
      " 4   publisher    251183 non-null  object\n",
      " 5   Image-URL-S  251185 non-null  object\n",
      " 6   Image-URL-M  251185 non-null  object\n",
      " 7   Image-URL-L  251182 non-null  object\n",
      "dtypes: object(8)\n",
      "memory usage: 17.2+ MB\n"
     ]
    }
   ],
   "source": [
    "books.info()"
   ]
  },
  {
   "cell_type": "code",
   "execution_count": 410,
   "metadata": {},
   "outputs": [
    {
     "data": {
      "text/html": [
       "<div>\n",
       "<style scoped>\n",
       "    .dataframe tbody tr th:only-of-type {\n",
       "        vertical-align: middle;\n",
       "    }\n",
       "\n",
       "    .dataframe tbody tr th {\n",
       "        vertical-align: top;\n",
       "    }\n",
       "\n",
       "    .dataframe thead th {\n",
       "        text-align: right;\n",
       "    }\n",
       "</style>\n",
       "<table border=\"1\" class=\"dataframe\">\n",
       "  <thead>\n",
       "    <tr style=\"text-align: right;\">\n",
       "      <th></th>\n",
       "      <th>isbn</th>\n",
       "      <th>title</th>\n",
       "      <th>author</th>\n",
       "      <th>year</th>\n",
       "      <th>publisher</th>\n",
       "      <th>Image-URL-S</th>\n",
       "      <th>Image-URL-M</th>\n",
       "      <th>Image-URL-L</th>\n",
       "    </tr>\n",
       "  </thead>\n",
       "  <tbody>\n",
       "    <tr>\n",
       "      <th>118033</th>\n",
       "      <td>0751352497</td>\n",
       "      <td>A+ Quiz Masters:01 Earth</td>\n",
       "      <td>NaN</td>\n",
       "      <td>1999</td>\n",
       "      <td>Dorling Kindersley</td>\n",
       "      <td>http://images.amazon.com/images/P/0751352497.0...</td>\n",
       "      <td>http://images.amazon.com/images/P/0751352497.0...</td>\n",
       "      <td>http://images.amazon.com/images/P/0751352497.0...</td>\n",
       "    </tr>\n",
       "    <tr>\n",
       "      <th>187689</th>\n",
       "      <td>9627982032</td>\n",
       "      <td>The Credit Suisse Guide to Managing Your Perso...</td>\n",
       "      <td>NaN</td>\n",
       "      <td>1995</td>\n",
       "      <td>Edinburgh Financial Publishing</td>\n",
       "      <td>http://images.amazon.com/images/P/9627982032.0...</td>\n",
       "      <td>http://images.amazon.com/images/P/9627982032.0...</td>\n",
       "      <td>http://images.amazon.com/images/P/9627982032.0...</td>\n",
       "    </tr>\n",
       "  </tbody>\n",
       "</table>\n",
       "</div>"
      ],
      "text/plain": [
       "              isbn                                              title author  \\\n",
       "118033  0751352497                           A+ Quiz Masters:01 Earth    NaN   \n",
       "187689  9627982032  The Credit Suisse Guide to Managing Your Perso...    NaN   \n",
       "\n",
       "        year                       publisher  \\\n",
       "118033  1999              Dorling Kindersley   \n",
       "187689  1995  Edinburgh Financial Publishing   \n",
       "\n",
       "                                              Image-URL-S  \\\n",
       "118033  http://images.amazon.com/images/P/0751352497.0...   \n",
       "187689  http://images.amazon.com/images/P/9627982032.0...   \n",
       "\n",
       "                                              Image-URL-M  \\\n",
       "118033  http://images.amazon.com/images/P/0751352497.0...   \n",
       "187689  http://images.amazon.com/images/P/9627982032.0...   \n",
       "\n",
       "                                              Image-URL-L  \n",
       "118033  http://images.amazon.com/images/P/0751352497.0...  \n",
       "187689  http://images.amazon.com/images/P/9627982032.0...  "
      ]
     },
     "execution_count": 410,
     "metadata": {},
     "output_type": "execute_result"
    }
   ],
   "source": [
    "books[books['author'].isnull()]"
   ]
  },
  {
   "cell_type": "code",
   "execution_count": 411,
   "metadata": {},
   "outputs": [],
   "source": [
    "books.fillna('Unknown', inplace=True)"
   ]
  },
  {
   "cell_type": "markdown",
   "metadata": {},
   "source": [
    "### Users"
   ]
  },
  {
   "cell_type": "code",
   "execution_count": 412,
   "metadata": {},
   "outputs": [
    {
     "name": "stdout",
     "output_type": "stream",
     "text": [
      "<class 'pandas.core.frame.DataFrame'>\n",
      "RangeIndex: 278858 entries, 0 to 278857\n",
      "Data columns (total 3 columns):\n",
      " #   Column    Non-Null Count   Dtype  \n",
      "---  ------    --------------   -----  \n",
      " 0   user_id   278858 non-null  int64  \n",
      " 1   location  278858 non-null  object \n",
      " 2   age       168096 non-null  float64\n",
      "dtypes: float64(1), int64(1), object(1)\n",
      "memory usage: 6.4+ MB\n"
     ]
    }
   ],
   "source": [
    "users.info()"
   ]
  },
  {
   "cell_type": "markdown",
   "metadata": {},
   "source": [
    "### Ratings"
   ]
  },
  {
   "cell_type": "code",
   "execution_count": 413,
   "metadata": {},
   "outputs": [
    {
     "name": "stdout",
     "output_type": "stream",
     "text": [
      "<class 'pandas.core.frame.DataFrame'>\n",
      "RangeIndex: 1149780 entries, 0 to 1149779\n",
      "Data columns (total 3 columns):\n",
      " #   Column   Non-Null Count    Dtype \n",
      "---  ------   --------------    ----- \n",
      " 0   user_id  1149780 non-null  int64 \n",
      " 1   isbn     1149780 non-null  object\n",
      " 2   rating   1149780 non-null  int64 \n",
      "dtypes: int64(2), object(1)\n",
      "memory usage: 26.3+ MB\n"
     ]
    }
   ],
   "source": [
    "ratings.info()"
   ]
  },
  {
   "cell_type": "markdown",
   "metadata": {},
   "source": [
    "## EDA"
   ]
  },
  {
   "cell_type": "code",
   "execution_count": 414,
   "metadata": {},
   "outputs": [],
   "source": [
    "import matplotlib.pyplot as plt"
   ]
  },
  {
   "cell_type": "code",
   "execution_count": 482,
   "metadata": {},
   "outputs": [],
   "source": [
    "author = books.groupby('author').size().sort_values(ascending=False).to_frame().head(10)"
   ]
  },
  {
   "cell_type": "code",
   "execution_count": 515,
   "metadata": {},
   "outputs": [],
   "source": [
    "ratings_with_author = pd.merge(ratings,books,on = 'isbn').drop(columns=['year','publisher','Image-URL-S','Image-URL-M','Image-URL-L'])"
   ]
  },
  {
   "cell_type": "code",
   "execution_count": 516,
   "metadata": {},
   "outputs": [],
   "source": [
    "test = ratings_with_author.groupby('author')['rating'].mean().to_frame().reset_index()\n"
   ]
  },
  {
   "cell_type": "code",
   "execution_count": 517,
   "metadata": {},
   "outputs": [],
   "source": [
    "author_10 = pd.merge(author,test,on='author')"
   ]
  },
  {
   "cell_type": "code",
   "execution_count": 518,
   "metadata": {},
   "outputs": [
    {
     "data": {
      "image/png": "[encoded data removed]",
      "text/plain": [
       "<Figure size 1200x400 with 2 Axes>"
      ]
     },
     "metadata": {},
     "output_type": "display_data"
    }
   ],
   "source": [
    "fig, axes = plt.subplots(1, 2, figsize=(12, 4))\n",
    "\n",
    "plt.subplot(1,2,1)\n",
    "plt.title('Top 10 authors with most books')\n",
    "\n",
    "plt.barh(author_10['author'],author_10[0])\n",
    "\n",
    "plt.subplot(1,2,2)\n",
    "plt.title('Ratings')\n",
    "plt.barh(author_10['author'],author_10['rating'],color = 'orange')\n",
    "plt.yticks([])\n",
    "\n",
    "\n",
    "plt.show()\n"
   ]
  },
  {
   "cell_type": "code",
   "execution_count": 523,
   "metadata": {},
   "outputs": [],
   "source": [
    "rating_book = ratings_with_author.groupby('isbn').agg(\n",
    "    {\n",
    "        'user_id': 'count',  # Đếm số user\n",
    "        'rating': 'mean'  # Tính trung bình rating\n",
    "    }\n",
    ").reset_index()\n",
    "\n",
    "# Đổi tên cột\n",
    "rating_book.rename(columns={'user_id': 'user_count', 'rating': 'avg_rating'}, inplace=True)\n"
   ]
  },
  {
   "cell_type": "code",
   "execution_count": 524,
   "metadata": {},
   "outputs": [],
   "source": [
    "rating_book_gt_10 = rating_book[rating_book['user_count'] > 100].sort_values(by='avg_rating',ascending=False).head(10)"
   ]
  },
  {
   "cell_type": "code",
   "execution_count": 530,
   "metadata": {},
   "outputs": [],
   "source": [
    "rating_book_gt_10 = pd.merge(rating_book_gt_10,books,on = 'isbn')"
   ]
  },
  {
   "cell_type": "code",
   "execution_count": 542,
   "metadata": {},
   "outputs": [
    {
     "data": {
      "image/png": "[encoded data removed]",
      "text/plain": [
       "<Figure size 640x480 with 1 Axes>"
      ]
     },
     "metadata": {},
     "output_type": "display_data"
    }
   ],
   "source": [
    "plt.title(label='Books with over 100 reviewers have the highest rating')\n",
    "plt.barh(rating_book_gt_10['title'],rating_book_gt_10['avg_rating'],color = 'red')\n",
    "\n",
    "plt.show()"
   ]
  },
  {
   "cell_type": "code",
   "execution_count": 585,
   "metadata": {},
   "outputs": [],
   "source": [
    "book_per_year = books.groupby('year').size().to_frame(name='count')\n"
   ]
  },
  {
   "cell_type": "code",
   "execution_count": 587,
   "metadata": {},
   "outputs": [],
   "source": [
    "book_per_year = book_per_year[\n",
    "    (book_per_year.index != '0') & \n",
    "    (book_per_year.index != 'DK Publishing Inc') & \n",
    "    (book_per_year.index != 'Gallimard')\n",
    "]\n",
    "\n",
    "# Chuyển index về kiểu số để so sánh\n",
    "book_per_year = book_per_year[(book_per_year.index.astype(int) <= 2024) & (book_per_year.index.astype(int) > 0) ]\n"
   ]
  },
  {
   "cell_type": "code",
   "execution_count": 594,
   "metadata": {},
   "outputs": [],
   "source": [
    "book_per_year = book_per_year.tail(21)"
   ]
  },
  {
   "cell_type": "code",
   "execution_count": 596,
   "metadata": {},
   "outputs": [
    {
     "data": {
      "image/png": "[encoded data removed]",
      "text/plain": [
       "<Figure size 1000x500 with 1 Axes>"
      ]
     },
     "metadata": {},
     "output_type": "display_data"
    }
   ],
   "source": [
    "import matplotlib.pyplot as plt\n",
    "\n",
    "plt.figure(figsize=(10, 5))  # Kích thước biểu đồ\n",
    "plt.plot(book_per_year.index, book_per_year['count'], marker='o', linestyle='-')\n",
    "\n",
    "plt.xlabel('Year')\n",
    "plt.ylabel('Number of Books')\n",
    "plt.title('Number of Books Published Over Time from 1990')\n",
    "plt.grid(True)  # Hiển thị lưới\n",
    "plt.show()\n"
   ]
  },
  {
   "cell_type": "markdown",
   "metadata": {},
   "source": [
    "## Preprocessing"
   ]
  },
  {
   "cell_type": "markdown",
   "metadata": {},
   "source": [
    "### Books"
   ]
  },
  {
   "cell_type": "code",
   "execution_count": 359,
   "metadata": {},
   "outputs": [],
   "source": [
    "books['year']= books['year'].astype(str)"
   ]
  },
  {
   "cell_type": "code",
   "execution_count": 360,
   "metadata": {},
   "outputs": [],
   "source": [
    "books['bag_of_words'] = books[['title','author','year','publisher']].agg(' '.join, axis=1)"
   ]
  },
  {
   "cell_type": "code",
   "execution_count": 361,
   "metadata": {},
   "outputs": [],
   "source": [
    "isbn_statistic = ratings.groupby('isbn').agg(\n",
    "    {\n",
    "        'user_id':'count'\n",
    "    }\n",
    ").rename(columns={'user_id':'rating_count'})"
   ]
  },
  {
   "cell_type": "code",
   "execution_count": 362,
   "metadata": {},
   "outputs": [],
   "source": [
    "famous_isbn = isbn_statistic[isbn_statistic['rating_count'] > 20].index"
   ]
  },
  {
   "cell_type": "code",
   "execution_count": 363,
   "metadata": {},
   "outputs": [
    {
     "data": {
      "text/plain": [
       "Index(['0006493580', '000649840X', '0006512135', '0006513204', '0006514855',\n",
       "       '0006547834', '0006550576', '0006550681', '0006550789', '0007108273',\n",
       "       ...\n",
       "       '8817106259', '8817131628', '8826703132', '8845205118', '8845247414',\n",
       "       '884590184X', '8873122933', '8885989403', '950491036X', '9727722458'],\n",
       "      dtype='object', name='isbn', length=7064)"
      ]
     },
     "execution_count": 363,
     "metadata": {},
     "output_type": "execute_result"
    }
   ],
   "source": [
    "famous_isbn"
   ]
  },
  {
   "cell_type": "code",
   "execution_count": 364,
   "metadata": {},
   "outputs": [],
   "source": [
    "books = books[books['isbn'].isin(famous_isbn)]"
   ]
  },
  {
   "cell_type": "code",
   "execution_count": 365,
   "metadata": {},
   "outputs": [],
   "source": [
    "books.reset_index(drop=True, inplace=True)"
   ]
  },
  {
   "cell_type": "markdown",
   "metadata": {},
   "source": [
    "### Ratings"
   ]
  },
  {
   "cell_type": "code",
   "execution_count": 366,
   "metadata": {},
   "outputs": [],
   "source": [
    "ratings = ratings[ratings['isbn'].isin(famous_isbn)]"
   ]
  },
  {
   "cell_type": "code",
   "execution_count": 367,
   "metadata": {},
   "outputs": [],
   "source": [
    "user_id_per_rate = ratings.groupby('user_id').size().sort_values(ascending= False)"
   ]
  },
  {
   "cell_type": "code",
   "execution_count": 368,
   "metadata": {},
   "outputs": [
    {
     "data": {
      "text/plain": [
       "((606,), (56706,))"
      ]
     },
     "execution_count": 368,
     "metadata": {},
     "output_type": "execute_result"
    }
   ],
   "source": [
    "user_id_per_rate[user_id_per_rate > 100].shape,user_id_per_rate.shape"
   ]
  },
  {
   "cell_type": "code",
   "execution_count": 369,
   "metadata": {},
   "outputs": [],
   "source": [
    "user_id_per_rate = user_id_per_rate[user_id_per_rate > 100 ]"
   ]
  },
  {
   "cell_type": "code",
   "execution_count": 370,
   "metadata": {},
   "outputs": [],
   "source": [
    "active_user = user_id_per_rate.index"
   ]
  },
  {
   "cell_type": "code",
   "execution_count": 371,
   "metadata": {},
   "outputs": [],
   "source": [
    "ratings = ratings[ratings['user_id'].isin(active_user)]"
   ]
  },
  {
   "cell_type": "code",
   "execution_count": 372,
   "metadata": {},
   "outputs": [],
   "source": [
    "ratings.reset_index(inplace=True)"
   ]
  },
  {
   "cell_type": "code",
   "execution_count": 373,
   "metadata": {},
   "outputs": [],
   "source": [
    "ratings = ratings[ratings['user_id'] != 11676]"
   ]
  },
  {
   "cell_type": "markdown",
   "metadata": {},
   "source": [
    "## Content-Based Recomendation System"
   ]
  },
  {
   "cell_type": "code",
   "execution_count": 374,
   "metadata": {},
   "outputs": [],
   "source": [
    "from sklearn.feature_extraction.text import TfidfVectorizer\n",
    "from sklearn.metrics.pairwise import linear_kernel\n",
    "        \n",
    "        \n",
    "class ContentBasedRecomendation():\n",
    "    def __init__(self, books,top_n=10):\n",
    "        self.books = books\n",
    "        self.linear_kernel_function()\n",
    "        self.top_n = top_n\n",
    "    \n",
    "    def linear_kernel_function(self):\n",
    "    \n",
    "        tfidf = TfidfVectorizer(stop_words='english')\n",
    "        try: \n",
    "            matrix = tfidf.fit_transform(self.books['bag_of_words'])\n",
    "            self.linear_kernel = linear_kernel(matrix, matrix)\n",
    "        except KeyError:\n",
    "            raise KeyError(\"Column 'bag_of_words' not found in DataFrame\")\n",
    "\n",
    "    \n",
    "    def search(self, title):\n",
    "        index = self.books[self.books['title'] == title].index[0]\n",
    "        \n",
    "        list = []\n",
    "        for i in range(self.linear_kernel.shape[0]):\n",
    "            if self.linear_kernel[index][i] > 0:\n",
    "                list.append((i, self.linear_kernel[index][i]))\n",
    "        sorted_list = sorted(list, key=lambda x: x[1], reverse=True)\n",
    "        \n",
    "        return sorted_list\n",
    "    def recommend(self, title):\n",
    "        books = []\n",
    "        scores = []\n",
    "        list = self.search(title)\n",
    "        for j,i in enumerate(list[:self.top_n]):\n",
    "           \n",
    "            books.append((self.books.iloc[i[0]]['title'],self.books.iloc[i[0]]['Image-URL-M']))\n",
    "            scores.append((list[j][1].item(),self.books.iloc[i[0]]['isbn']))\n",
    "        \n",
    "        \n",
    "        return books,scores "
   ]
  },
  {
   "cell_type": "markdown",
   "metadata": {},
   "source": [
    "## Collaborative Filtering Recomendation System"
   ]
  },
  {
   "cell_type": "code",
   "execution_count": 375,
   "metadata": {},
   "outputs": [],
   "source": [
    "from sklearn.metrics.pairwise import cosine_similarity"
   ]
  },
  {
   "cell_type": "code",
   "execution_count": 376,
   "metadata": {},
   "outputs": [],
   "source": [
    "def normalize(user_item):\n",
    "        mean_per_col = user_item.mean().values  # Tính trung bình mỗi cột\n",
    "        user_item = user_item.sub(mean_per_col, axis=1)  # Chuẩn hóa bằng cách trừ trung bình\n",
    "\n",
    "        user_item_with_NaN_0 = user_item.fillna(0)  # Thay NaN bằng 0 để tính cosine similarity\n",
    "        similar_matrix = cosine_similarity(user_item_with_NaN_0.T)  # Ma trận tương đồng\n",
    "        map_dict = {col: idx for idx, col in enumerate(user_item.columns)}\n",
    "\n",
    "        for i in user_item.columns:\n",
    "            for j in user_item.index:\n",
    "                if pd.isna(user_item.at[j, i]):  # Chỉ xử lý ô bị thiếu\n",
    "                    lst = sorted(\n",
    "                        [(user_item.columns[k], similar_matrix[map_dict[i], k]) \n",
    "                        for k in range(len(similar_matrix))], \n",
    "                        key=lambda x: x[1], reverse=True\n",
    "                    )[1:]  # Bỏ chính nó\n",
    "\n",
    "                    ts = ms = count = 0\n",
    "                    for item in lst:\n",
    "                        val = user_item.at[j, item[0]]\n",
    "                        if not pd.isna(val):\n",
    "                            ts += item[1] * val\n",
    "                            ms += abs(item[1])\n",
    "                            count += 1\n",
    "                        if count == 2:\n",
    "                            break\n",
    "\n",
    "                    user_item.at[j, i] = ts / ms if ms != 0 else 0\n",
    "\n",
    "        return user_item.add(mean_per_col, axis=1)  # Cộng lại giá trị trung bình ban đầu"
   ]
  },
  {
   "cell_type": "code",
   "execution_count": 377,
   "metadata": {},
   "outputs": [],
   "source": [
    "import pandas as pd\n",
    "from scipy.sparse import csr_matrix\n",
    "from sklearn.neighbors import NearestNeighbors\n",
    "\n",
    "class Collaborative_Fitering:\n",
    "    def __init__(self, books):\n",
    "        self.books = books\n",
    "        self.data = pd.read_csv('normalize_data.csv')\n",
    "        self.user_item = self.data.pivot_table(columns='user_id',index='isbn',values='rating')\n",
    "        self.user_item_sparse = csr_matrix(self.user_item)\n",
    "        self.model = NearestNeighbors(algorithm='brute')\n",
    "        self.model.fit(self.user_item_sparse)\n",
    "\n",
    "\n",
    "    def recommend(self, title):\n",
    "        \n",
    "        isbn = self.books[self.books['title'] == title]['isbn'].values[0]\n",
    "        \n",
    "        \n",
    "        obs = self.user_item.loc[isbn].values.reshape(1, -1)\n",
    "        dist, suggestions = self.model.kneighbors(obs, n_neighbors=10)\n",
    "        suggestions = suggestions.flatten()\n",
    "        lst = []\n",
    "        recommendations = []\n",
    "        for stt,ind in enumerate(suggestions):\n",
    "            book_isbn = self.user_item.iloc[ind].name\n",
    "            book_title = self.books.loc[self.books['isbn'] == book_isbn, 'title']\n",
    "            \n",
    "            if not book_title.empty:\n",
    "                recommendations.append((book_title.values[0],self.books.loc[self.books['isbn'] == book_isbn, 'Image-URL-S']))\n",
    "                lst.append((dist.flatten()[stt].item(),book_isbn))\n",
    "        \n",
    "        return recommendations,lst"
   ]
  },
  {
   "cell_type": "markdown",
   "metadata": {},
   "source": [
    "## Test"
   ]
  },
  {
   "cell_type": "code",
   "execution_count": 378,
   "metadata": {},
   "outputs": [],
   "source": [
    "recomend = Collaborative_Fitering(books)"
   ]
  },
  {
   "cell_type": "code",
   "execution_count": 379,
   "metadata": {},
   "outputs": [],
   "source": [
    "class HybridRecommendation():\n",
    "    def __init__(self,books):\n",
    "        self.books = books\n",
    "        self.collab = Collaborative_Fitering(self.books)\n",
    "        self.content = ContentBasedRecomendation(self.books)\n",
    "    \n",
    "    def normalize_result(self,lst):  \n",
    "        scores = np.array([i[0] for i in lst])  \n",
    "        min_val, max_val = np.min(scores), np.max(scores)  \n",
    "        normalized_scores = (scores - min_val) / (max_val - min_val)  \n",
    "\n",
    "        return {isbn: norm_score.item() for norm_score, (_, isbn) in zip(normalized_scores, lst)}\n",
    "    def merge_dicts(self, dict1, dict2, weight1=0.4, weight2=0.6):\n",
    "        merged = {}\n",
    "        all_keys = set(dict1.keys()).union(set(dict2.keys()))\n",
    "        \n",
    "        for key in all_keys:\n",
    "            value1 = dict1.get(key, 0) * weight1\n",
    "            value2 = dict2.get(key, 0) * weight2\n",
    "            merged[key] = value1 + value2\n",
    "            \n",
    "        return merged\n",
    "\n",
    "\n",
    "    \n",
    "    def recomend(self,title):\n",
    "        \n",
    "        _,list = self.collab.recommend(title)\n",
    "        \n",
    "        _,content = self.content.recommend(title)\n",
    "        \n",
    "        content = self.normalize_result(content)\n",
    "        list = self.normalize_result(list)\n",
    "        \n",
    "        dict = self.merge_dicts(list,content)\n",
    "        \n",
    "        sorted_dict = sorted(dict.items(), key=lambda x: x[1], reverse=True)\n",
    "        \n",
    "        count = 0\n",
    "        \n",
    "        recommend = []\n",
    "        for key,_ in sorted_dict:\n",
    "            recommend.append((self.books[self.books['isbn'] == key]['title'].item(),self.books[self.books['isbn'] == key]['Image-URL-M'].item()))\n",
    "            \n",
    "            count = count + 1\n",
    "            if count == 6:\n",
    "                break\n",
    "        return recommend"
   ]
  },
  {
   "cell_type": "code",
   "execution_count": 380,
   "metadata": {},
   "outputs": [],
   "source": [
    "model = HybridRecommendation(books)"
   ]
  },
  {
   "cell_type": "code",
   "execution_count": 381,
   "metadata": {},
   "outputs": [],
   "source": [
    "import pickle\n",
    "\n",
    "with open(\"title.pkl\", \"wb\") as f:\n",
    "    pickle.dump(books, f)\n"
   ]
  }
 ],
 "metadata": {
  "kernelspec": {
   "display_name": "venv",
   "language": "python",
   "name": "python3"
  },
  "language_info": {
   "codemirror_mode": {
    "name": "ipython",
    "version": 3
   },
   "file_extension": ".py",
   "mimetype": "text/x-python",
   "name": "python",
   "nbconvert_exporter": "python",
   "pygments_lexer": "ipython3",
   "version": "3.11.9"
  }
 },
 "nbformat": 4,
 "nbformat_minor": 2
}
